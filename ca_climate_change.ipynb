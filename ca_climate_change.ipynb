{
 "cells": [
  {
   "cell_type": "code",
   "execution_count": 1,
   "metadata": {},
   "outputs": [],
   "source": [
    "# Dependencies\n",
    "import pandas as pd\n",
    "import geopandas as gpd\n",
    "from pathlib import Path"
   ]
  },
  {
   "cell_type": "code",
   "execution_count": 2,
   "metadata": {},
   "outputs": [],
   "source": [
    "# Wildfire Data\n",
    "# Name of the geojson file\n",
    "file_js = Path('Resources/California_Fire_Perimete.geojson')"
   ]
  },
  {
   "cell_type": "code",
   "execution_count": 3,
   "metadata": {},
   "outputs": [
    {
     "ename": "DriverError",
     "evalue": "Resources\\California_Fire_Perimete.geojson: No such file or directory",
     "output_type": "error",
     "traceback": [
      "\u001b[1;31m---------------------------------------------------------------------------\u001b[0m",
      "\u001b[1;31mCPLE_OpenFailedError\u001b[0m                      Traceback (most recent call last)",
      "File \u001b[1;32mfiona\\\\ogrext.pyx:136\u001b[0m, in \u001b[0;36mfiona.ogrext.gdal_open_vector\u001b[1;34m()\u001b[0m\n",
      "File \u001b[1;32mfiona\\\\_err.pyx:291\u001b[0m, in \u001b[0;36mfiona._err.exc_wrap_pointer\u001b[1;34m()\u001b[0m\n",
      "\u001b[1;31mCPLE_OpenFailedError\u001b[0m: Resources\\California_Fire_Perimete.geojson: No such file or directory",
      "\nDuring handling of the above exception, another exception occurred:\n",
      "\u001b[1;31mDriverError\u001b[0m                               Traceback (most recent call last)",
      "Cell \u001b[1;32mIn[3], line 2\u001b[0m\n\u001b[0;32m      1\u001b[0m \u001b[38;5;66;03m# Step 1: Load Wildfire GeoJSON Data\u001b[39;00m\n\u001b[1;32m----> 2\u001b[0m wildfire_gdf \u001b[38;5;241m=\u001b[39m gpd\u001b[38;5;241m.\u001b[39mread_file(file_js)\n",
      "File \u001b[1;32mc:\\Users\\drpon\\anaconda3\\Lib\\site-packages\\geopandas\\io\\file.py:297\u001b[0m, in \u001b[0;36m_read_file\u001b[1;34m(filename, bbox, mask, rows, engine, **kwargs)\u001b[0m\n\u001b[0;32m    294\u001b[0m     \u001b[38;5;28;01melse\u001b[39;00m:\n\u001b[0;32m    295\u001b[0m         path_or_bytes \u001b[38;5;241m=\u001b[39m filename\n\u001b[1;32m--> 297\u001b[0m     \u001b[38;5;28;01mreturn\u001b[39;00m _read_file_fiona(\n\u001b[0;32m    298\u001b[0m         path_or_bytes, from_bytes, bbox\u001b[38;5;241m=\u001b[39mbbox, mask\u001b[38;5;241m=\u001b[39mmask, rows\u001b[38;5;241m=\u001b[39mrows, \u001b[38;5;241m*\u001b[39m\u001b[38;5;241m*\u001b[39mkwargs\n\u001b[0;32m    299\u001b[0m     )\n\u001b[0;32m    301\u001b[0m \u001b[38;5;28;01melse\u001b[39;00m:\n\u001b[0;32m    302\u001b[0m     \u001b[38;5;28;01mraise\u001b[39;00m \u001b[38;5;167;01mValueError\u001b[39;00m(\u001b[38;5;124mf\u001b[39m\u001b[38;5;124m\"\u001b[39m\u001b[38;5;124munknown engine \u001b[39m\u001b[38;5;124m'\u001b[39m\u001b[38;5;132;01m{\u001b[39;00mengine\u001b[38;5;132;01m}\u001b[39;00m\u001b[38;5;124m'\u001b[39m\u001b[38;5;124m\"\u001b[39m)\n",
      "File \u001b[1;32mc:\\Users\\drpon\\anaconda3\\Lib\\site-packages\\geopandas\\io\\file.py:338\u001b[0m, in \u001b[0;36m_read_file_fiona\u001b[1;34m(path_or_bytes, from_bytes, bbox, mask, rows, where, **kwargs)\u001b[0m\n\u001b[0;32m    335\u001b[0m     reader \u001b[38;5;241m=\u001b[39m fiona\u001b[38;5;241m.\u001b[39mopen\n\u001b[0;32m    337\u001b[0m \u001b[38;5;28;01mwith\u001b[39;00m fiona_env():\n\u001b[1;32m--> 338\u001b[0m     \u001b[38;5;28;01mwith\u001b[39;00m reader(path_or_bytes, \u001b[38;5;241m*\u001b[39m\u001b[38;5;241m*\u001b[39mkwargs) \u001b[38;5;28;01mas\u001b[39;00m features:\n\u001b[0;32m    339\u001b[0m         crs \u001b[38;5;241m=\u001b[39m features\u001b[38;5;241m.\u001b[39mcrs_wkt\n\u001b[0;32m    340\u001b[0m         \u001b[38;5;66;03m# attempt to get EPSG code\u001b[39;00m\n",
      "File \u001b[1;32mc:\\Users\\drpon\\anaconda3\\Lib\\site-packages\\fiona\\env.py:457\u001b[0m, in \u001b[0;36mensure_env_with_credentials.<locals>.wrapper\u001b[1;34m(*args, **kwds)\u001b[0m\n\u001b[0;32m    454\u001b[0m     session \u001b[38;5;241m=\u001b[39m DummySession()\n\u001b[0;32m    456\u001b[0m \u001b[38;5;28;01mwith\u001b[39;00m env_ctor(session\u001b[38;5;241m=\u001b[39msession):\n\u001b[1;32m--> 457\u001b[0m     \u001b[38;5;28;01mreturn\u001b[39;00m f(\u001b[38;5;241m*\u001b[39margs, \u001b[38;5;241m*\u001b[39m\u001b[38;5;241m*\u001b[39mkwds)\n",
      "File \u001b[1;32mc:\\Users\\drpon\\anaconda3\\Lib\\site-packages\\fiona\\__init__.py:292\u001b[0m, in \u001b[0;36mopen\u001b[1;34m(fp, mode, driver, schema, crs, encoding, layer, vfs, enabled_drivers, crs_wkt, allow_unsupported_drivers, **kwargs)\u001b[0m\n\u001b[0;32m    289\u001b[0m     path \u001b[38;5;241m=\u001b[39m parse_path(fp)\n\u001b[0;32m    291\u001b[0m \u001b[38;5;28;01mif\u001b[39;00m mode \u001b[38;5;129;01min\u001b[39;00m (\u001b[38;5;124m\"\u001b[39m\u001b[38;5;124ma\u001b[39m\u001b[38;5;124m\"\u001b[39m, \u001b[38;5;124m\"\u001b[39m\u001b[38;5;124mr\u001b[39m\u001b[38;5;124m\"\u001b[39m):\n\u001b[1;32m--> 292\u001b[0m     colxn \u001b[38;5;241m=\u001b[39m Collection(\n\u001b[0;32m    293\u001b[0m         path,\n\u001b[0;32m    294\u001b[0m         mode,\n\u001b[0;32m    295\u001b[0m         driver\u001b[38;5;241m=\u001b[39mdriver,\n\u001b[0;32m    296\u001b[0m         encoding\u001b[38;5;241m=\u001b[39mencoding,\n\u001b[0;32m    297\u001b[0m         layer\u001b[38;5;241m=\u001b[39mlayer,\n\u001b[0;32m    298\u001b[0m         enabled_drivers\u001b[38;5;241m=\u001b[39menabled_drivers,\n\u001b[0;32m    299\u001b[0m         allow_unsupported_drivers\u001b[38;5;241m=\u001b[39mallow_unsupported_drivers,\n\u001b[0;32m    300\u001b[0m         \u001b[38;5;241m*\u001b[39m\u001b[38;5;241m*\u001b[39mkwargs\n\u001b[0;32m    301\u001b[0m     )\n\u001b[0;32m    302\u001b[0m \u001b[38;5;28;01melif\u001b[39;00m mode \u001b[38;5;241m==\u001b[39m \u001b[38;5;124m\"\u001b[39m\u001b[38;5;124mw\u001b[39m\u001b[38;5;124m\"\u001b[39m:\n\u001b[0;32m    303\u001b[0m     colxn \u001b[38;5;241m=\u001b[39m Collection(\n\u001b[0;32m    304\u001b[0m         path,\n\u001b[0;32m    305\u001b[0m         mode,\n\u001b[1;32m   (...)\u001b[0m\n\u001b[0;32m    314\u001b[0m         \u001b[38;5;241m*\u001b[39m\u001b[38;5;241m*\u001b[39mkwargs\n\u001b[0;32m    315\u001b[0m     )\n",
      "File \u001b[1;32mc:\\Users\\drpon\\anaconda3\\Lib\\site-packages\\fiona\\collection.py:243\u001b[0m, in \u001b[0;36mCollection.__init__\u001b[1;34m(self, path, mode, driver, schema, crs, encoding, layer, vsi, archive, enabled_drivers, crs_wkt, ignore_fields, ignore_geometry, include_fields, wkt_version, allow_unsupported_drivers, **kwargs)\u001b[0m\n\u001b[0;32m    241\u001b[0m \u001b[38;5;28;01mif\u001b[39;00m \u001b[38;5;28mself\u001b[39m\u001b[38;5;241m.\u001b[39mmode \u001b[38;5;241m==\u001b[39m \u001b[38;5;124m\"\u001b[39m\u001b[38;5;124mr\u001b[39m\u001b[38;5;124m\"\u001b[39m:\n\u001b[0;32m    242\u001b[0m     \u001b[38;5;28mself\u001b[39m\u001b[38;5;241m.\u001b[39msession \u001b[38;5;241m=\u001b[39m Session()\n\u001b[1;32m--> 243\u001b[0m     \u001b[38;5;28mself\u001b[39m\u001b[38;5;241m.\u001b[39msession\u001b[38;5;241m.\u001b[39mstart(\u001b[38;5;28mself\u001b[39m, \u001b[38;5;241m*\u001b[39m\u001b[38;5;241m*\u001b[39mkwargs)\n\u001b[0;32m    244\u001b[0m \u001b[38;5;28;01melif\u001b[39;00m \u001b[38;5;28mself\u001b[39m\u001b[38;5;241m.\u001b[39mmode \u001b[38;5;129;01min\u001b[39;00m (\u001b[38;5;124m\"\u001b[39m\u001b[38;5;124ma\u001b[39m\u001b[38;5;124m\"\u001b[39m, \u001b[38;5;124m\"\u001b[39m\u001b[38;5;124mw\u001b[39m\u001b[38;5;124m\"\u001b[39m):\n\u001b[0;32m    245\u001b[0m     \u001b[38;5;28mself\u001b[39m\u001b[38;5;241m.\u001b[39msession \u001b[38;5;241m=\u001b[39m WritingSession()\n",
      "File \u001b[1;32mfiona\\\\ogrext.pyx:588\u001b[0m, in \u001b[0;36mfiona.ogrext.Session.start\u001b[1;34m()\u001b[0m\n",
      "File \u001b[1;32mfiona\\\\ogrext.pyx:143\u001b[0m, in \u001b[0;36mfiona.ogrext.gdal_open_vector\u001b[1;34m()\u001b[0m\n",
      "\u001b[1;31mDriverError\u001b[0m: Resources\\California_Fire_Perimete.geojson: No such file or directory"
     ]
    }
   ],
   "source": [
    "# Step 1: Load Wildfire GeoJSON Data\n",
    "wildfire_gdf = gpd.read_file(file_js)"
   ]
  },
  {
   "cell_type": "code",
   "execution_count": null,
   "metadata": {},
   "outputs": [],
   "source": [
    "# Display the first few rows to understand the structure\n",
    "print(wildfire_gdf.head())"
   ]
  },
  {
   "cell_type": "code",
   "execution_count": null,
   "metadata": {},
   "outputs": [],
   "source": [
    "# Extract column names\n",
    "column_names = wildfire_gdf.columns\n",
    "print(\"Column Names:\", column_names)"
   ]
  },
  {
   "cell_type": "code",
   "execution_count": null,
   "metadata": {},
   "outputs": [],
   "source": [
    "# Check the minimum and maximum year in the dataset\n",
    "min_year = wildfire_gdf['YEAR_'].min()\n",
    "max_year = wildfire_gdf['YEAR_'].max()\n",
    "\n",
    "print(f\"Year Range: {min_year} to {max_year}\")"
   ]
  },
  {
   "cell_type": "code",
   "execution_count": null,
   "metadata": {},
   "outputs": [],
   "source": [
    "# Step 2: Process Wildfire Data - Change column names\n",
    "# Rename specific columns\n",
    "wildfire_gdf = wildfire_gdf.rename(columns={\n",
    "    'OBJECTID': 'ID',\n",
    "    'YEAR_': 'Year',\n",
    "    'STATE': 'State',\n",
    "    'AGENCY': 'Agency',\n",
    "    'UNIT_ID': 'Unit ID',\n",
    "    'FIRE_NAME': 'Fire Name',\n",
    "    'INC_NUM': 'Incident Number',\n",
    "    'ALARM_DATE': 'Alarm Date',\n",
    "    'CONT_DATE': 'Containment Date',\n",
    "    'CAUSE': 'Cause',\n",
    "    'C_METHOD': 'Collection Method',\n",
    "    'OBJECTIVE': 'Management Objective',\n",
    "    'GIS_ACRES': 'GIS Acres',\n",
    "    'COMMENTS': 'Comments', \n",
    "    'COMPLEX_NAME': 'Complex Name',\n",
    "    'IRWINID': 'IRWIN ID',\n",
    "    'FIRE_NUM': 'Fire Number',\n",
    "    'COMPLEX_ID': 'Complex ID',\n",
    "    'DECADES':'Decades', \n",
    "    'geometry': 'Geometry'\n",
    "})"
   ]
  },
  {
   "cell_type": "code",
   "execution_count": null,
   "metadata": {},
   "outputs": [],
   "source": [
    "#Confirm column name changes\n",
    "column_names = wildfire_gdf.columns\n",
    "print(\"Column Names:\", column_names)"
   ]
  },
  {
   "cell_type": "code",
   "execution_count": null,
   "metadata": {},
   "outputs": [],
   "source": [
    "#Keep only a subset of columns for analysis\n",
    "wildfire_gdf = wildfire_gdf[['ID', 'Year', 'State', 'Agency', 'Unit ID', 'Fire Name',\n",
    "    'Incident Number', 'Alarm Date', 'Containment Date', 'Cause', 'GIS Acres', \n",
    "    'Comments','Complex Name', 'Fire Number', 'Decades','Geometry']]"
   ]
  },
  {
   "cell_type": "code",
   "execution_count": null,
   "metadata": {
    "inputHidden": false,
    "outputHidden": false
   },
   "outputs": [],
   "source": [
    "# Rainfall Data\n",
    "# Name of the rainfall csv file\n",
    "file_rain= Path('Resources/ca_rainfall.csv')"
   ]
  },
  {
   "cell_type": "code",
   "execution_count": null,
   "metadata": {
    "inputHidden": false,
    "outputHidden": false
   },
   "outputs": [],
   "source": [
    "# The correct encoding must be used to read the CSV in pandas\n",
    "df_rain = pd.read_csv(file_rain)"
   ]
  },
  {
   "cell_type": "code",
   "execution_count": null,
   "metadata": {
    "inputHidden": false,
    "outputHidden": false
   },
   "outputs": [],
   "source": [
    "# Preview of the rain fall dataFrame\n",
    "df_rain.head()"
   ]
  },
  {
   "cell_type": "code",
   "execution_count": 4,
   "metadata": {},
   "outputs": [],
   "source": [
    "# Average Temperature Data\n",
    "sf_temp_path = Path('Resources/avg-temps-sf.csv')\n",
    "la_temp_path = Path('Resources/avg-temps-la.csv')\n",
    "sd_temp_path = Path('Resources/avg-temps-sd.csv')\n",
    "sac_temp_path = Path('Resources/avg-temps-sac.csv')\n",
    "bf_temp_path = Path('Resources/avg-temps-bf.csv')\n",
    "erk_temp_path = Path('Resources/avg-temps-erk.csv')\n",
    "ca_temp_path = Path('Resources/avg-temps-ca.csv')"
   ]
  },
  {
   "cell_type": "code",
   "execution_count": 5,
   "metadata": {},
   "outputs": [],
   "source": [
    "# Read in CSVs without unnecessary rows\n",
    "sf_temps_df = pd.read_csv(sf_temp_path, skiprows=3)\n",
    "la_temps_df = pd.read_csv(la_temp_path, skiprows=3)\n",
    "sd_temps_df = pd.read_csv(sd_temp_path, skiprows=3)\n",
    "sac_temps_df = pd.read_csv(sac_temp_path, skiprows=3)\n",
    "bf_temps_df = pd.read_csv(bf_temp_path, skiprows=3)\n",
    "erk_temps_df = pd.read_csv(erk_temp_path, skiprows=3)\n",
    "ca_temps_df = pd.read_csv(ca_temp_path, skiprows=3)"
   ]
  },
  {
   "cell_type": "code",
   "execution_count": 6,
   "metadata": {},
   "outputs": [],
   "source": [
    "# Create list of all city dfs\n",
    "cities_temps = [sf_temps_df, la_temps_df, sd_temps_df, sac_temps_df, bf_temps_df, erk_temps_df, ca_temps_df]"
   ]
  },
  {
   "cell_type": "code",
   "execution_count": 7,
   "metadata": {},
   "outputs": [],
   "source": [
    "# Convert date to datetime format and split year and month into two columns, then drop 'Date' column\n",
    "for city in cities_temps:\n",
    "    city['date'] = pd.to_datetime(city['Date'], format='%Y%m')\n",
    "    city['month'] = city['date'].dt.month\n",
    "    city['year'] = city['date'].dt.year\n",
    "    city = city.drop('Date', axis=1, inplace=True)"
   ]
  },
  {
   "cell_type": "code",
   "execution_count": 8,
   "metadata": {},
   "outputs": [],
   "source": [
    "# Drop 'date' column in each df\n",
    "for city in cities_temps:\n",
    "    city = city.drop('date', axis=1, inplace=True)"
   ]
  },
  {
   "cell_type": "code",
   "execution_count": 10,
   "metadata": {},
   "outputs": [],
   "source": [
    "# Rename each 'Value' column to 'temperature'\n",
    "sf_temps_df = sf_temps_df.rename(columns={'Value': 'temperature'})\n",
    "la_temps_df = la_temps_df.rename(columns={'Value': 'temperature'})     \n",
    "sd_temps_df = sd_temps_df.rename(columns={'Value': 'temperature'})     \n",
    "sac_temps_df = sac_temps_df.rename(columns={'Value': 'temperature'})     \n",
    "bf_temps_df = bf_temps_df.rename(columns={'Value': 'temperature'})     \n",
    "erk_temps_df = erk_temps_df.rename(columns={'Value': 'temperature'}) \n",
    "ca_temps_df = ca_temps_df.rename(columns={'Value': 'temperature'})        "
   ]
  },
  {
   "cell_type": "code",
   "execution_count": 11,
   "metadata": {},
   "outputs": [],
   "source": [
    "# Reorder each df\n",
    "sf_temps_df = sf_temps_df[['year', 'month', 'temperature']]\n",
    "la_temps_df = la_temps_df[['year', 'month', 'temperature']]\n",
    "sd_temps_df = sd_temps_df[['year', 'month', 'temperature']]\n",
    "sac_temps_df = sac_temps_df[['year', 'month', 'temperature']]\n",
    "bf_temps_df = bf_temps_df[['year', 'month', 'temperature']]\n",
    "erk_temps_df = erk_temps_df[['year', 'month', 'temperature']]\n",
    "ca_temps_df = ca_temps_df[['year', 'month', 'temperature']]"
   ]
  },
  {
   "cell_type": "code",
   "execution_count": 17,
   "metadata": {},
   "outputs": [
    {
     "name": "stdout",
     "output_type": "stream",
     "text": [
      "     year  month  temperature\n",
      "0    1945      7         62.5\n",
      "1    1945      8         61.8\n",
      "2    1945      9         63.5\n",
      "3    1945     10         60.3\n",
      "4    1945     11         54.7\n",
      "..    ...    ...          ...\n",
      "944  2024      3         54.9\n",
      "945  2024      4         57.2\n",
      "946  2024      5         60.0\n",
      "947  2024      6         62.7\n",
      "948  2024      7         66.6\n",
      "\n",
      "[949 rows x 3 columns]\n",
      "     year  month  temperature\n",
      "0    1945      1         53.3\n",
      "1    1945      2         54.8\n",
      "2    1945      3         52.9\n",
      "3    1945      4         57.1\n",
      "4    1945      5         60.2\n",
      "..    ...    ...          ...\n",
      "950  2024      3         57.4\n",
      "951  2024      4         58.7\n",
      "952  2024      5         61.4\n",
      "953  2024      6         65.9\n",
      "954  2024      7         68.3\n",
      "\n",
      "[955 rows x 3 columns]\n",
      "     year  month  temperature\n",
      "0    1945      1         52.1\n",
      "1    1945      2         53.7\n",
      "2    1945      3         52.7\n",
      "3    1945      4         55.2\n",
      "4    1945      5         59.5\n",
      "..    ...    ...          ...\n",
      "950  2024      3         57.5\n",
      "951  2024      4         60.2\n",
      "952  2024      5         62.3\n",
      "953  2024      6         66.4\n",
      "954  2024      7         71.0\n",
      "\n",
      "[955 rows x 3 columns]\n",
      "     year  month  temperature\n",
      "0    1945      1         43.4\n",
      "1    1945      2         50.8\n",
      "2    1945      3         49.4\n",
      "3    1945      4        -99.0\n",
      "4    1945      5        -99.0\n",
      "..    ...    ...          ...\n",
      "950  2024      3         55.0\n",
      "951  2024      4         59.6\n",
      "952  2024      5         67.0\n",
      "953  2024      6         75.2\n",
      "954  2024      7         81.1\n",
      "\n",
      "[955 rows x 3 columns]\n",
      "     year  month  temperature\n",
      "0    1945      1         43.5\n",
      "1    1945      2         50.8\n",
      "2    1945      3         50.6\n",
      "3    1945      4         61.6\n",
      "4    1945      5         66.8\n",
      "..    ...    ...          ...\n",
      "950  2024      3         57.1\n",
      "951  2024      4         62.9\n",
      "952  2024      5         72.8\n",
      "953  2024      6         83.0\n",
      "954  2024      7         90.9\n",
      "\n",
      "[955 rows x 3 columns]\n",
      "     year  month  temperature\n",
      "0    1945      1         46.8\n",
      "1    1945      2         46.8\n",
      "2    1945      3         45.4\n",
      "3    1945      4         46.0\n",
      "4    1945      5         51.7\n",
      "..    ...    ...          ...\n",
      "950  2024      3         49.2\n",
      "951  2024      4         50.4\n",
      "952  2024      5         52.6\n",
      "953  2024      6         55.3\n",
      "954  2024      7         58.7\n",
      "\n",
      "[955 rows x 3 columns]\n",
      "     year  month  temperature\n",
      "0    1945      1         42.4\n",
      "1    1945      2         45.4\n",
      "2    1945      3         44.6\n",
      "3    1945      4         53.8\n",
      "4    1945      5         59.5\n",
      "..    ...    ...          ...\n",
      "950  2024      3         48.7\n",
      "951  2024      4         55.3\n",
      "952  2024      5         63.1\n",
      "953  2024      6         74.1\n",
      "954  2024      7         81.7\n",
      "\n",
      "[955 rows x 3 columns]\n"
     ]
    }
   ],
   "source": [
    "# Check each df\n",
    "print(sf_temps_df)\n",
    "print(la_temps_df)\n",
    "print(sd_temps_df)\n",
    "print(sac_temps_df)\n",
    "print(bf_temps_df)\n",
    "print(erk_temps_df)\n",
    "print(ca_temps_df)"
   ]
  }
 ],
 "metadata": {
  "anaconda-cloud": {},
  "kernel_info": {
   "name": "python3"
  },
  "kernelspec": {
   "display_name": "Python 3 (ipykernel)",
   "language": "python",
   "name": "python3"
  },
  "language_info": {
   "codemirror_mode": {
    "name": "ipython",
    "version": 3
   },
   "file_extension": ".py",
   "mimetype": "text/x-python",
   "name": "python",
   "nbconvert_exporter": "python",
   "pygments_lexer": "ipython3",
   "version": "3.11.7"
  },
  "nteract": {
   "version": "0.2.0"
  }
 },
 "nbformat": 4,
 "nbformat_minor": 4
}
